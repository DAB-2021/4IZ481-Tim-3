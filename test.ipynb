{
 "cells": [
  {
   "cell_type": "code",
   "execution_count": 1,
   "metadata": {},
   "outputs": [],
   "source": [
    "import fasttext\n",
    "import fasttext.util"
   ]
  },
  {
   "cell_type": "code",
   "execution_count": 2,
   "metadata": {},
   "outputs": [
    {
     "data": {
      "text/plain": [
       "'cc.cs.300.bin'"
      ]
     },
     "execution_count": 2,
     "metadata": {},
     "output_type": "execute_result"
    }
   ],
   "source": [
    "fasttext.util.download_model('cs', if_exists='ignore')"
   ]
  },
  {
   "cell_type": "code",
   "execution_count": 28,
   "metadata": {},
   "outputs": [
    {
     "name": "stderr",
     "output_type": "stream",
     "text": [
      "Warning : `load_model` does not return WordVectorModel or SupervisedModel any more, but a `FastText` object which is very similar.\n"
     ]
    }
   ],
   "source": [
    "ft = fasttext.load_model('cc.cs.300.bin')\n",
    "ft.get_dimension()\n",
    "fasttext.util.reduce_model(ft, 100)\n",
    "ft.get_dimension()\n"
   ]
  },
  {
   "cell_type": "code",
   "execution_count": 31,
   "metadata": {},
   "outputs": [
    {
     "data": {
      "text/plain": [
       "[(0.7555146813392639, 'blb'),\n",
       " (0.7450128793716431, 'pitomec'),\n",
       " (0.731050431728363, 'debil.'),\n",
       " (0.7302549481391907, 'dement'),\n",
       " (0.729505717754364, 'idiot'),\n",
       " (0.7250545620918274, 'magor'),\n",
       " (0.7211179733276367, 'blbeček'),\n",
       " (0.7123850584030151, 'trotl'),\n",
       " (0.6934462785720825, 'blbec'),\n",
       " (0.6893702745437622, 'kretén')]"
      ]
     },
     "execution_count": 31,
     "metadata": {},
     "output_type": "execute_result"
    }
   ],
   "source": [
    "ft.get_nearest_neighbors('debil')"
   ]
  },
  {
   "cell_type": "code",
   "execution_count": 26,
   "metadata": {},
   "outputs": [
    {
     "data": {
      "text/plain": [
       "['Ahoj', 'ako', 'sa', 'mas?']"
      ]
     },
     "execution_count": 26,
     "metadata": {},
     "output_type": "execute_result"
    }
   ],
   "source": [
    "token = fasttext.tokenize(\"Ahoj ako sa mas?\")"
   ]
  },
  {
   "cell_type": "code",
   "execution_count": 27,
   "metadata": {},
   "outputs": [
    {
     "data": {
      "text/plain": [
       "array([-5.28017163e-01,  5.92194915e-01, -2.07119212e-01, -6.00822210e-01,\n",
       "       -1.09154858e-01,  5.93933053e-02, -7.15723857e-02, -6.80813730e-01,\n",
       "        1.43749073e-01,  5.76071553e-02,  8.53896886e-02, -5.15699863e-01,\n",
       "        4.44121450e-01, -8.75569880e-03, -1.17614932e-01,  2.88947672e-01,\n",
       "       -4.48033661e-01,  4.87825841e-01,  1.01987265e-01, -7.04356134e-02,\n",
       "        1.04468569e-01,  1.03657790e-01,  4.70050685e-02, -1.02863275e-01,\n",
       "        4.09610830e-02,  3.05143625e-01, -8.26460123e-02,  1.38363149e-03,\n",
       "        3.18596244e-01, -1.80388048e-01, -2.33483985e-01, -3.18710029e-01,\n",
       "        7.34695196e-02, -5.51952340e-04,  1.94298238e-01,  3.53551835e-01,\n",
       "       -1.48520723e-01, -2.53231615e-01,  4.90847044e-02,  1.00578908e-02,\n",
       "       -2.09412381e-01, -3.03389877e-01,  1.29680634e-01, -2.40212470e-01,\n",
       "        1.93922091e-02, -4.63106036e-02, -1.62252456e-01, -4.70730849e-02,\n",
       "        4.17308956e-02, -1.16976567e-01, -2.02976130e-02,  1.66382760e-01,\n",
       "       -2.36704081e-01,  2.46158540e-01, -1.83922704e-02,  2.78627854e-02,\n",
       "        4.67313342e-02,  8.15959796e-02,  1.48298278e-01,  4.94843759e-02,\n",
       "       -2.31224066e-03, -1.31121606e-01, -2.57779527e-02, -9.65143926e-03,\n",
       "       -2.24586595e-02,  9.82876122e-02, -2.78664321e-01, -1.59480199e-01,\n",
       "        1.83551256e-02,  2.57372767e-01, -2.54370421e-01, -6.70664907e-02,\n",
       "       -4.16368106e-03,  8.15271363e-02, -1.53952286e-01, -1.46562994e-01,\n",
       "       -9.40719619e-02,  6.88277781e-02,  2.12682039e-02, -3.81825631e-03,\n",
       "        1.93763673e-01,  1.18792474e-01, -8.89436901e-02,  5.46239316e-02,\n",
       "       -2.34289691e-01,  8.25533364e-03, -8.64310041e-02,  1.85078401e-02,\n",
       "        9.21894684e-02, -2.33562157e-01,  2.78521419e-01, -8.06395616e-03,\n",
       "        2.83916239e-02, -8.80556703e-02,  1.96421263e-03, -2.21019685e-01,\n",
       "       -5.91637678e-02, -1.41235243e-03, -8.94070342e-02,  2.53055915e-02],\n",
       "      dtype=float32)"
      ]
     },
     "execution_count": 27,
     "metadata": {},
     "output_type": "execute_result"
    }
   ],
   "source": [
    "ft.get_word_vector(\"Ne\")"
   ]
  }
 ],
 "metadata": {
  "interpreter": {
   "hash": "ee344d0e3718ccddf4bd715962d7e13125e214c36fe2083c738cce62fb6e9b6e"
  },
  "kernelspec": {
   "display_name": "Python 3.9.6 64-bit",
   "language": "python",
   "name": "python3"
  },
  "language_info": {
   "codemirror_mode": {
    "name": "ipython",
    "version": 3
   },
   "file_extension": ".py",
   "mimetype": "text/x-python",
   "name": "python",
   "nbconvert_exporter": "python",
   "pygments_lexer": "ipython3",
   "version": "3.9.6"
  },
  "orig_nbformat": 4
 },
 "nbformat": 4,
 "nbformat_minor": 2
}
